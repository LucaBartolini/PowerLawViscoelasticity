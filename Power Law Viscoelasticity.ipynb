{
 "cells": [
  {
   "cell_type": "markdown",
   "id": "01fa1ce5",
   "metadata": {},
   "source": [
    "# Aspiration with ramp-hold, fitting to aspirated length \n",
    "\n",
    "\n",
    "## (1) Prescribed Pressure Profile\n",
    "\n",
    "Pressure $P(t)$ is a ramp-and-hold shape. Below its definition and its derivative. Plotted at the end of this notebook\n",
    "\n",
    "$$ \n",
    "P(t)=\n",
    "\\begin{cases}\n",
    " &Q\\cdot t \\quad \\text{ for } t\\le t_r \\\\\n",
    " &Q \\cdot t_r \\quad \\text{for } t>t_r \n",
    "\\end{cases} \\qquad \\Rightarrow \\qquad\n",
    "\\frac{\\mathrm{d} P(t)}{\\mathrm{d} t}=\n",
    "\\begin{cases}\n",
    " &Q  \\qquad \\text{ for } t\\le t_r \\\\\n",
    " &0 \\qquad \\text{ for } t>t_r \n",
    "\\end{cases} \n",
    "$$\n",
    "\n",
    "Where $t_r$ is the ramp time, and $Q$ is the rate of pressure change\n",
    "\n",
    "## (2) Boltzmann Hereditary Integral, and the case of aspiration\n",
    "\n",
    "Also called *Duhamel's integral*, which given an arbitrary stress profile $\\sigma(t)$, produces the resulting strain:\n",
    "\n",
    "$$\n",
    "\\varepsilon(t) =\\int_{-\\infty}^t J(t-\\xi)\\frac{\\mathrm{d} \\sigma(\\xi)}{\\mathrm{d} \\xi} \\mathrm{d} \\xi\n",
    "$$\n",
    "\n",
    "Where $J(\\xi)$ is the Creep Compliance function (assuming the material is non-ageing).\n",
    "\n",
    "For an aspiration experiment [(von Dassow 2010)](https://journals.plos.org/plosone/article?id=10.1371/journal.pone.0015359), stress $\\sigma(t) = P(t)$, and strain $\\varepsilon(t) = -{L(t)} / {kR_c}$, where $R_c$ is the channel radius and $k$ an adimensional geometrical constant (related to the wall function). \n",
    "The Boltzmann integral then becomes:\n",
    "\n",
    "$$\n",
    "L(t) = -k \\ R_c \\int_0^t J(t-\\xi)\\frac{\\mathrm{d} P(\\xi)}{\\mathrm{d} \\xi} \\mathrm{d} \\xi\n",
    "$$\n",
    "\n",
    "Where $J(t)$ can take any form\n",
    "\n",
    "## (3) Creep Compliance function\n",
    "\n",
    "The Creep Compliance Function $J(t)$ is where the modeling choices come into play. We will first use one of the most common: the Power Law Viscoelastic\n",
    "\n",
    "$$\n",
    "J_{PL}(t) = A\\  t^{\\,\\beta}\n",
    "$$\n",
    "\n",
    "Where $A$ and $\\beta$ are the mechanical parameters, respectively the scaling factor and the time-dependent descriptor. \n",
    "\n",
    "*****\n",
    "\n",
    "## Solving the integral\n",
    "\n",
    "Given the pressure profile as prescribed above in (1), we can solve the Boltzmann integral in (2) with the Creep compliance function define in (3).\n",
    "\n",
    "- During the ramp $t \\le t_r$, the derivative $\\frac{\\mathrm{d} P(t)}{\\mathrm{d} t}=Q$) and we can write the Boltzamm Integral for the Aspirated Lenght $L_1(t)$: \n",
    "\n",
    "$$\n",
    "L_1(t) = -k \\ R_c \\int_0^t A \\ (t-\\xi)^\\beta Q \\mathrm{d} \\xi = -k \\ R_c \\ A \\ Q \\cdot \\left[  -\\frac{(t-\\xi)^{\\beta+1}}{\\beta+1} \\right]^t_0 =  \\\\ k \\ R_c \\ A \\ Q \\cdot \\frac{t^{\\beta + 1}}{\\beta+1}\n",
    "$$\n",
    "\n",
    "- And when $t > t_r$ (after the ramp ends), we split the integral of the aspirated length $L_2(t)$ into the interval of the ramp (where the derivative $\\frac{\\mathrm{d} P(t)}{\\mathrm{d} t}=Q$), and into the hold one (where the derivative $\\frac{\\mathrm{d} P(t)}{\\mathrm{d} t}= \\emptyset$ so that the integral in that interval is zero). \n",
    "\n",
    "$$\n",
    "L_2(t) = -k \\ R_c \\cdot \\left[  \\int_0^{t_r^-} A \\ (t-\\xi)^\\beta Q \\mathrm{d} \\xi + \\int_{t_r^+}^t A \\ (t-\\xi)^\\beta \\ \\emptyset \\  \\mathrm{d} \\xi \\right] =\\\\ \n",
    "$$\n",
    "\n",
    "$$\n",
    "-k \\ R_c \\ A \\ Q \\cdot \\left[  \\int_0^{t_r} \\ (t-\\xi)^\\beta  \\ \\mathrm{d} \\xi \\right] =\n",
    "$$\n",
    "\n",
    "$$\n",
    "-k \\ R_c \\ A \\ Q \\cdot \\frac{ t^{\\beta+1} - (t-t_r)^{\\beta+1} }{\\beta+1}\n",
    "$$\n"
   ]
  },
  {
   "cell_type": "code",
   "execution_count": 1,
   "id": "d483737b",
   "metadata": {},
   "outputs": [],
   "source": [
    "import matplotlib.pyplot as plt\n",
    "import numpy as np\n",
    "from numpy import power as pow "
   ]
  },
  {
   "cell_type": "code",
   "execution_count": 9,
   "id": "a7b4c448",
   "metadata": {},
   "outputs": [
    {
     "data": {
      "image/png": "[encoded data removed]",
      "text/plain": [
       "<Figure size 936x360 with 2 Axes>"
      ]
     },
     "metadata": {
      "needs_background": "light"
     },
     "output_type": "display_data"
    }
   ],
   "source": [
    "## Experiment parameters\n",
    "tr = 1 # ramp time\n",
    "k = 0.97 # wall function\n",
    "Rc = 60 # microns\n",
    "Q = 600 # cmH20/second\n",
    "\n",
    "## Mechanical Model Parameters\n",
    "A = 0.05\n",
    "beta = 0.3\n",
    "\n",
    "# Solution for the ramp \n",
    "def L1(t):\n",
    "    return k*Rc*A*Q* pow(t, beta+1) / (beta+1)\n",
    "\n",
    "# Solution for the hold phase\n",
    "def L2(t):\n",
    "    return (k*Rc*A*Q) * (pow(t,beta+1)-pow(t-tr, beta+1)) / (beta+1)\n",
    "\n",
    "# defining the time intervals: t1 is the ramp and t2 the hold\n",
    "t1 = np.arange(start = 0, stop = tr, step = 0.01) # for the ramp interval\n",
    "t2 = np.arange(start = tr, stop = 6, step = 0.01) # for the hold interval\n",
    "\n",
    "fig,ax = plt.subplots(ncols=2, figsize=(13,5));\n",
    "ax[0].set_title('Pressure vs time', fontsize=16, pad=15)\n",
    "ax[0].scatter(t1, t1*Q, c = 'forestgreen') # ramp\n",
    "ax[0].scatter(t2, [tr*Q]*len(t2), c = 'forestgreen') # hold\n",
    "\n",
    "ax[1].set_title('Aspirated length vs time', fontsize=16, pad=15)\n",
    "ax[1].scatter(t1, L1(t1), c='blue', s = 1);\n",
    "ax[1].scatter(t2, L2(t2), c='red', s = 1);\n",
    "ax[1].text(0.66*tr, 0.25*L1(tr), r\"$L_1(t)$\", fontsize = 14);\n",
    "ax[1].text(1.7*tr, 1.15*L2(tr), r\"$L_2(t)$\", fontsize = 14);\n",
    "\n",
    "plt.tight_layout()"
   ]
  },
  {
   "attachments": {},
   "cell_type": "markdown",
   "id": "5900af42",
   "metadata": {},
   "source": [
    "## Standard Linear Solid as Alternative Creep Compliance Function\n",
    "\n",
    "The Creep Compliance function can be arbitrarily chosen; another common one, [(Guilak 1999)](https://www.ncbi.nlm.nih.gov/pubmed/10626310) is the [Standard Linear Solid](https://en.wikipedia.org/wiki/Standard_linear_solid_model), a three-parameter spring/dashpot model. \n",
    "For the SLS,\n",
    "$$\n",
    "J_{SLS}(t) = \\frac{1}{k_1} \\left( 1 - \\frac{k_2}{k_1+k_2}e^{-t/\\tau} \\right)\n",
    "$$ \n",
    "\n",
    "With respect to the Power Law example above, a slightly different normalization of Aspirated Length (to transform it into strain) is used. It's a matter of geometrical factors that scale results linearly and shouldn't worry too much.  \n",
    "Using $J_{SLS}$, we can write the Hereditary integral [(Pravincumar 2012)](https://www.ncbi.nlm.nih.gov/pmc/articles/PMC3439462/) as: \n",
    "\n",
    "$$\n",
    "L(t) = \\int_0^t \\frac{\\phi \\ R_c}{\\pi k_1} \\left[ 1 - \\frac{k_2}{k_1+k_2}e^{-(t-\\xi)/\\tau} \\right] \\frac{\\mathrm{d} P(\\xi)}{\\mathrm{d} \\xi} \\mathrm{d} \\xi\n",
    "$$\n",
    "\n",
    "Where $R_c$ is the radius of the aperture, $\\phi$ is the adimensional wall function, $k_1$ and $k_2$ the spring constants in the models and $\\tau = \\mu (k_1 + k_2) / k_1k_2)$, with $\\mu$ being the dashpot constant.\n",
    "\n",
    "Again, for the ramp-and-hold Pressure profile described in Section (1) above, we can solve the integral by splitting it into the ramp interval and in the hold one.  We obtain an analytical solution defined over the two intervals as follows: \n",
    "$$\n",
    "L(t)=\n",
    "\\begin{cases}\n",
    " & \\frac{a Q \\phi}{\\pi k_1} \\left[ t + \\frac{k_2 \\tau}{k_1+k_2} \\left( -1+e^{t/\\tau} \\right) \\right] \\\\\n",
    " & \\frac{a Q \\phi}{\\pi k_1} \\left[ t_r - \\frac{k_2 \\tau}{k_1+k_2} \\left( e^{t/\\tau} \\left( -1+e^{t_r/\\tau}\\right) \\right) \\right]\n",
    "\\end{cases}\n",
    "$$"
   ]
  },
  {
   "cell_type": "code",
   "execution_count": 10,
   "id": "891d6b96",
   "metadata": {},
   "outputs": [
    {
     "data": {
      "image/png": "[encoded data removed]",
      "text/plain": [
       "<Figure size 648x432 with 1 Axes>"
      ]
     },
     "metadata": {
      "needs_background": "light"
     },
     "output_type": "display_data"
    }
   ],
   "source": [
    "## Standard Linear Solid\n",
    "# note: capital P stands for `pressure`, small p stands `parameters`\n",
    "pSLS = dict(\n",
    "    k1 = 10.,\n",
    "    k2 = 10.,\n",
    "    mu = 2.,\n",
    "    tr = 1.4\n",
    ")\n",
    "\n",
    "phi = 2.1 # wall function\n",
    "a = 2.5 # mm -> also L(t) will be in mm\n",
    "\n",
    "# Solution during the ramp (t<=tr)\n",
    "def L1_SLS(t, p):\n",
    "    return (a*p['Q']*phi/(np.pi*p['k1']))*(t + (p['k2']*p['tau']*(-1+np.exp(-t/p['tau'])))/(p['k1']+p['k2']))\n",
    "\n",
    "# Solution during the hold\n",
    "def L2_SLS(t, p):\n",
    "    return (a*p['Q']*phi/(np.pi*p['k1'])) * (p['tr'] - (p['k2']*p['tau']*np.exp(-t/p['tau'])*(-1+np.exp(p['tr']/p['tau'])))/(p['k1']+p['k2']))\n",
    "\n",
    "# Combining the solutions\n",
    "def L_SLS(t,p):\n",
    "    t = np.array(t)\n",
    "    p['Q'] = 200 / p['tr'] # the suction reaches 200mbar final suction, and the suction rate is that value divided by the time of the ramp\n",
    "    p['tau'] = p['mu'] * (p['k1']+p['k2']) / (p['k1']*p['k2'])\n",
    "    idxs = t<p['tr'] # find indices where of the ramp\n",
    "    return np.hstack([ \n",
    "        L1_SLS(t[idxs],p), # apply L1 to the ramp\n",
    "        L2_SLS(t[~idxs],p) # apply L2 to the hold\n",
    "    ]) # return the horizontal concatenation of the two arrays\n",
    "\n",
    "t = np.arange(0,5,step=0.01)\n",
    "\n",
    "fig,ax = plt.subplots(ncols=1, figsize=(9,6));\n",
    "\n",
    "ax.set_title('Aspirated length vs time', fontsize=16, pad=15)\n",
    "ax.plot(t, L_SLS(t, pSLS), c='b' );\n",
    "\n",
    "ax.text(0.66*tr, 0.33*L_SLS(tr, pSLS), r\"$L_1(t)$\", fontsize = 14);\n",
    "ax.text(1.8*tr, 1.3*L_SLS(tr, pSLS), r\"$L_2(t)$\", fontsize = 14);\n",
    "\n",
    "plt.tight_layout()"
   ]
  }
 ],
 "metadata": {
  "kernelspec": {
   "display_name": "Python 3 (ipykernel)",
   "language": "python",
   "name": "python3"
  },
  "language_info": {
   "codemirror_mode": {
    "name": "ipython",
    "version": 3
   },
   "file_extension": ".py",
   "mimetype": "text/x-python",
   "name": "python",
   "nbconvert_exporter": "python",
   "pygments_lexer": "ipython3",
   "version": "3.9.7"
  },
  "varInspector": {
   "cols": {
    "lenName": 16,
    "lenType": 16,
    "lenVar": 40
   },
   "kernels_config": {
    "python": {
     "delete_cmd_postfix": "",
     "delete_cmd_prefix": "del ",
     "library": "var_list.py",
     "varRefreshCmd": "print(var_dic_list())"
    },
    "r": {
     "delete_cmd_postfix": ") ",
     "delete_cmd_prefix": "rm(",
     "library": "var_list.r",
     "varRefreshCmd": "cat(var_dic_list()) "
    }
   },
   "types_to_exclude": [
    "module",
    "function",
    "builtin_function_or_method",
    "instance",
    "_Feature"
   ],
   "window_display": false
  }
 },
 "nbformat": 4,
 "nbformat_minor": 5
}
